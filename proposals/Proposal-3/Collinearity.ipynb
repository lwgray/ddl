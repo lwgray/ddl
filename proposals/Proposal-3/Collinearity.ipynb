{
 "cells": [
  {
   "cell_type": "markdown",
   "metadata": {},
   "source": [
    "### collinearity\n",
    "\n",
    "*  Topic: Introduction to Collinearity\n",
    "*  Data:  DataScience subreddit titles from the past 3 years\n",
    "*  Original Objective:  Predict how many votes a post would receive based on its title\n",
    "*  Features:  See below\n",
    "\n",
    "  1. WordCount - The number of words in the title\n",
    "  2. CharCount - the number of characters in the title\n",
    "  3. Vowels - The number of vowels in the title\n",
    "  4. Consonants - The number of consonants in the title\n",
    "  5. gtavg - The number of up-votes greater than the average number of up-votes per post\n",
    "  6. polarity - The positive or negative sentiment of the title\n",
    "  7. subjectivity - Measure of objectivity and subjectivity of each title\n",
    "  8. Noun Phrases - The number of nouns in each title\n",
    "  9. Syllable - The number of syllables in each title\n",
    "  10. Kincaid - A score that meaures the grade-level of each title\n",
    "  11. Flesch - Measures the readability of each title\n",
    "\n",
    "![](../../images/correlation.png)\n",
    "\n"
   ]
  },
  {
   "cell_type": "code",
   "execution_count": 5,
   "metadata": {},
   "outputs": [
    {
     "name": "stdout",
     "output_type": "stream",
     "text": [
      "Exploratory Stats for Upvotes\n",
      "count    8856.000000\n",
      "mean        9.870709\n",
      "std        21.516689\n",
      "min         0.000000\n",
      "25%         1.000000\n",
      "50%         4.000000\n",
      "75%         9.000000\n",
      "max       552.000000\n",
      "Name: ups, dtype: float64\n"
     ]
    }
   ],
   "source": [
    "from textblob import TextBlob\n",
    "from yellowbrick.features.rankd import Rank2D\n",
    "from textstat.textstat import textstat\n",
    "import pandas as pd\n",
    "import numpy as np\n",
    "\n",
    "data = pd.read_csv('data/processed_datascience.csv.bz2')\n",
    "\n",
    "# Stats for Upvotes\n",
    "print('Exploratory Stats for Upvotes')\n",
    "print(data.ups.describe())\n",
    "\n",
    "## Optional: Throw out outliers by including rows with Z-Scores less than 2.5 and greater than -2.5\n",
    "data['z_scores'] = np.abs((data.ups-data.ups.mean())/data.ups.std())\n",
    "data = data[data['z_scores']<= 2.5]\n",
    "\n",
    "## Optional: Log transformation of up-votes\n",
    "data['log_ups'] = np.log1p(data['ups'])\n",
    "\n",
    "blobs = [TextBlob(sentence) for sentence in data.title]\n",
    "data['polarity'] = [blob.sentiment.polarity for blob in blobs]\n",
    "data['subjectivity'] = [blob.sentiment.subjectivity for blob in blobs]\n",
    "data['noun_phrases'] = [len(blob.noun_phrases) for blob in blobs]\n",
    "\n",
    "data['gtavg'] = data['ups'] > data.ups.mean()\n",
    "data['wordcount'] = data['title'].str.split().apply(len)\n",
    "data['charcount'] = data.title.str.len()\n",
    "data['vowels'] = data.title.str.findall(r'(?i)([aeiou])').apply(len)\n",
    "data['consonants'] = data.title.str.findall(r'(?i)([^aeiou])').apply(len)\n",
    "data['syllable'] = [textstat.syllable_count(x) for x in data.title]\n",
    "data['kincaid'] = [textstat.flesch_kincaid_grade(x) for x in data.title]\n",
    "data['flesch'] = [textstat.flesch_reading_ease(x) for x in data.title]\n",
    "\n",
    "df = data[['gtavg','wordcount','charcount','vowels','consonants', 'syllable', 'polarity',\n",
    "           'subjectivity', 'noun_phrases', 'kincaid', 'flesch']]\n",
    "\n",
    "features = ['wordcount','charcount','vowels','consonants', 'syllable', \n",
    "            'polarity', 'subjectivity', 'noun_phrases', 'kincaid', 'flesch' ]\n",
    "df.to_csv('data/reddit_data.csv')"
   ]
  },
  {
   "cell_type": "code",
   "execution_count": 4,
   "metadata": {},
   "outputs": [
    {
     "name": "stdout",
     "output_type": "stream",
     "text": [
      "Exploratory Stats for Upvotes\n",
      "count    8856.000000\n",
      "mean        9.870709\n",
      "std        21.516689\n",
      "min         0.000000\n",
      "25%         1.000000\n",
      "50%         4.000000\n",
      "75%         9.000000\n",
      "max       552.000000\n",
      "Name: ups, dtype: float64\n"
     ]
    },
    {
     "data": {
      "image/png": "[encoded data removed]",
      "text/plain": [
       "<matplotlib.figure.Figure at 0xa58e182c>"
      ]
     },
     "metadata": {},
     "output_type": "display_data"
    }
   ],
   "source": [
    "X = data[features].as_matrix()\n",
    "y = data['gtavg'].as_matrix()\n",
    "\n",
    "visualizer = Rank2D(features=features, algorithm='pearson', colormap='jet')\n",
    "visualizer.fit(X,y)\n",
    "visualizer.transform(X)\n",
    "#visualizer.poof()\n",
    "visualizer.poof(outpath=\"pearson.png\")"
   ]
  }
 ],
 "metadata": {
  "kernelspec": {
   "display_name": "Python 3",
   "language": "python",
   "name": "python3"
  },
  "language_info": {
   "codemirror_mode": {
    "name": "ipython",
    "version": 3
   },
   "file_extension": ".py",
   "mimetype": "text/x-python",
   "name": "python",
   "nbconvert_exporter": "python",
   "pygments_lexer": "ipython3",
   "version": "3.6.4"
  }
 },
 "nbformat": 4,
 "nbformat_minor": 2
}
