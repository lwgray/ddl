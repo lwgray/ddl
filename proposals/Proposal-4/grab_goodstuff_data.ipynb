{
 "cells": [
  {
   "cell_type": "markdown",
   "metadata": {},
   "source": [
    "This notebook contain the steps to go from nedcow postgresql database to csv file."
   ]
  },
  {
   "cell_type": "code",
   "execution_count": 1,
   "metadata": {},
   "outputs": [],
   "source": [
    "import psycopg2\n",
    "from sqlalchemy import create_engine\n",
    "import pandas as pd\n",
    "import numpy as np\n",
    "%matplotlib inline"
   ]
  },
  {
   "cell_type": "code",
   "execution_count": 2,
   "metadata": {},
   "outputs": [],
   "source": [
    "db_string = \"postgresql:///nedcow-dev\"\n",
    "\n",
    "db = create_engine(db_string)\n",
    "\n",
    "db = psycopg2.connect(\"dbname='nedcow-dev' host='localhost' password='mafia=612'\")\n",
    "\n",
    "cur = db.cursor()\n",
    "\n",
    "cur.execute(\"Select * from results\")\n",
    "\n",
    "rows = cur.fetchall()"
   ]
  },
  {
   "cell_type": "markdown",
   "metadata": {},
   "source": [
    "Data(rows) is returned as a list of tuples\n",
    "The list of tuples contain\n",
    "    index 0: Database index ID - type - int\n",
    "    index 1: Store Name - type - str\n",
    "    index 2: Product Information - type - Dict\n",
    "    index 3: Amazon ASIN id - type - str\n",
    "    index 4: Date - type - datetime object"
   ]
  },
  {
   "cell_type": "code",
   "execution_count": 3,
   "metadata": {},
   "outputs": [
    {
     "data": {
      "text/plain": [
       "(1,\n",
       " 'target',\n",
       " {'amazon_sales_price': '75.98',\n",
       "  'asin': 'B004QNL2CC',\n",
       "  'image': 'http://ecx.images-amazon.com/images/I/51LTTrOVc9L._SL75_.jpg',\n",
       "  'margin': '47.70',\n",
       "  'pagelink': 'http://m.target.com/p/our-generation-20-morgan-horse-with-accessories/-/A-13407851',\n",
       "  'profit': '16.69',\n",
       "  'purchaseprice': '34.99',\n",
       "  'salesrank': '17704',\n",
       "  'title': 'Our Generation Poseable Morgan Horse For 18\" Dolls',\n",
       "  'upc': '062243242999'},\n",
       " 'B004QNL2CC',\n",
       " datetime.datetime(2014, 6, 8, 19, 35, 45, 958895))"
      ]
     },
     "execution_count": 3,
     "metadata": {},
     "output_type": "execute_result"
    }
   ],
   "source": [
    "rows[0]"
   ]
  },
  {
   "cell_type": "markdown",
   "metadata": {},
   "source": [
    "#### Make list of dictionaries to load into pandas Dataframe"
   ]
  },
  {
   "cell_type": "code",
   "execution_count": 4,
   "metadata": {},
   "outputs": [],
   "source": [
    "# There has to be a more elegant way to do this\n",
    "new_dict = {}\n",
    "new_list = []\n",
    "for row in rows:\n",
    "    new_dict = row[2]\n",
    "    new_dict['store'] = row[1]\n",
    "    new_dict['date'] = row[4]\n",
    "    new_list.append(new_dict)\n",
    " "
   ]
  },
  {
   "cell_type": "code",
   "execution_count": 14,
   "metadata": {},
   "outputs": [],
   "source": [
    "df = pd.DataFrame(new_list)"
   ]
  },
  {
   "cell_type": "code",
   "execution_count": 15,
   "metadata": {},
   "outputs": [
    {
     "data": {
      "text/plain": [
       "(263181, 18)"
      ]
     },
     "execution_count": 15,
     "metadata": {},
     "output_type": "execute_result"
    }
   ],
   "source": [
    "df.shape"
   ]
  },
  {
   "cell_type": "code",
   "execution_count": 16,
   "metadata": {},
   "outputs": [],
   "source": [
    "df = df[df['purchaseprice'] != '']"
   ]
  },
  {
   "cell_type": "code",
   "execution_count": 17,
   "metadata": {},
   "outputs": [
    {
     "data": {
      "text/plain": [
       "(263177, 18)"
      ]
     },
     "execution_count": 17,
     "metadata": {},
     "output_type": "execute_result"
    }
   ],
   "source": [
    "df.shape"
   ]
  },
  {
   "cell_type": "markdown",
   "metadata": {},
   "source": [
    "#### Set columns to appropriate datatype\n",
    "I am trying to convert string values that should be integer or floats\n",
    "\n",
    "If a true string value exists within the values then I check the string size.\n",
    "\n",
    "If the string size is greater than 10 characters then I set the value to 0.0\n",
    "This done with the 'check_len' function."
   ]
  },
  {
   "cell_type": "code",
   "execution_count": 18,
   "metadata": {},
   "outputs": [],
   "source": [
    "df['amazon_sales_price'] = df.amazon_sales_price.replace(',','').astype(float)\n",
    "df['profit'] = df.profit.replace(',','').astype(float)\n",
    "df['margin'] = df.margin.replace(',','').astype(float)\n",
    "df['salesrank']=df.salesrank.astype(int)"
   ]
  },
  {
   "cell_type": "code",
   "execution_count": 45,
   "metadata": {},
   "outputs": [],
   "source": [
    "def check_len(x):\n",
    "    if isinstance(x, str):\n",
    "        x = x.strip().replace(',','')\n",
    "        if len(x) > 20:\n",
    "            x = '0'\n",
    "            return x\n",
    "        else:\n",
    "            return x\n",
    "    else:\n",
    "        x = str(x)\n",
    "        return x"
   ]
  },
  {
   "cell_type": "code",
   "execution_count": 49,
   "metadata": {},
   "outputs": [],
   "source": [
    "df['purchaseprice'] = df.purchaseprice.apply(lambda x: check_len(x)).astype(float)"
   ]
  },
  {
   "cell_type": "code",
   "execution_count": 68,
   "metadata": {},
   "outputs": [],
   "source": [
    "df.to_csv('goodstuff.csv.xz', compression='xz')"
   ]
  },
  {
   "cell_type": "code",
   "execution_count": 69,
   "metadata": {},
   "outputs": [
    {
     "data": {
      "text/html": [
       "<div>\n",
       "<style scoped>\n",
       "    .dataframe tbody tr th:only-of-type {\n",
       "        vertical-align: middle;\n",
       "    }\n",
       "\n",
       "    .dataframe tbody tr th {\n",
       "        vertical-align: top;\n",
       "    }\n",
       "\n",
       "    .dataframe thead th {\n",
       "        text-align: right;\n",
       "    }\n",
       "</style>\n",
       "<table border=\"1\" class=\"dataframe\">\n",
       "  <thead>\n",
       "    <tr style=\"text-align: right;\">\n",
       "      <th></th>\n",
       "      <th>amazon_sales_price</th>\n",
       "      <th>asin</th>\n",
       "      <th>date</th>\n",
       "      <th>image</th>\n",
       "      <th>logo</th>\n",
       "      <th>margin</th>\n",
       "      <th>model</th>\n",
       "      <th>model#</th>\n",
       "      <th>pagelink</th>\n",
       "      <th>profit</th>\n",
       "      <th>purchaseprice</th>\n",
       "      <th>salesrank</th>\n",
       "      <th>shipping</th>\n",
       "      <th>sku</th>\n",
       "      <th>store</th>\n",
       "      <th>storepick</th>\n",
       "      <th>title</th>\n",
       "      <th>upc</th>\n",
       "    </tr>\n",
       "  </thead>\n",
       "  <tbody>\n",
       "    <tr>\n",
       "      <th>0</th>\n",
       "      <td>75.98</td>\n",
       "      <td>B004QNL2CC</td>\n",
       "      <td>2014-06-08 19:35:45.958895</td>\n",
       "      <td>http://ecx.images-amazon.com/images/I/51LTTrOV...</td>\n",
       "      <td>NaN</td>\n",
       "      <td>47.70</td>\n",
       "      <td>NaN</td>\n",
       "      <td>NaN</td>\n",
       "      <td>http://m.target.com/p/our-generation-20-morgan...</td>\n",
       "      <td>16.69</td>\n",
       "      <td>34.99</td>\n",
       "      <td>17704</td>\n",
       "      <td>NaN</td>\n",
       "      <td>NaN</td>\n",
       "      <td>target</td>\n",
       "      <td>NaN</td>\n",
       "      <td>Our Generation Poseable Morgan Horse For 18\" D...</td>\n",
       "      <td>062243242999</td>\n",
       "    </tr>\n",
       "    <tr>\n",
       "      <th>1</th>\n",
       "      <td>21.99</td>\n",
       "      <td>B007GQOCUK</td>\n",
       "      <td>2014-06-08 19:35:45.958895</td>\n",
       "      <td>http://ecx.images-amazon.com/images/I/61zYcBOF...</td>\n",
       "      <td>NaN</td>\n",
       "      <td>43.28</td>\n",
       "      <td>NaN</td>\n",
       "      <td>NaN</td>\n",
       "      <td>http://m.target.com/p/cra-z-art-my-look-color-...</td>\n",
       "      <td>4.54</td>\n",
       "      <td>10.49</td>\n",
       "      <td>147596</td>\n",
       "      <td>NaN</td>\n",
       "      <td>NaN</td>\n",
       "      <td>target</td>\n",
       "      <td>NaN</td>\n",
       "      <td>Cra Z Art My Look Color Your Own Messenger Bag</td>\n",
       "      <td>884920465091</td>\n",
       "    </tr>\n",
       "    <tr>\n",
       "      <th>2</th>\n",
       "      <td>36.95</td>\n",
       "      <td>B0073FV4CS</td>\n",
       "      <td>2014-06-08 19:35:45.958895</td>\n",
       "      <td>http://ecx.images-amazon.com/images/I/41uWeEHI...</td>\n",
       "      <td>NaN</td>\n",
       "      <td>63.68</td>\n",
       "      <td>NaN</td>\n",
       "      <td>NaN</td>\n",
       "      <td>http://m.target.com/p/beyblade-metal-masters-b...</td>\n",
       "      <td>10.82</td>\n",
       "      <td>16.99</td>\n",
       "      <td>205741</td>\n",
       "      <td>NaN</td>\n",
       "      <td>NaN</td>\n",
       "      <td>target</td>\n",
       "      <td>NaN</td>\n",
       "      <td>Beyblade Metal Fusion Battle Top Faceoff - Bur...</td>\n",
       "      <td>653569721697</td>\n",
       "    </tr>\n",
       "    <tr>\n",
       "      <th>3</th>\n",
       "      <td>29.95</td>\n",
       "      <td>B00AHVJ9V8</td>\n",
       "      <td>2014-06-08 19:35:45.958895</td>\n",
       "      <td>http://ecx.images-amazon.com/images/I/41TGh7cq...</td>\n",
       "      <td>NaN</td>\n",
       "      <td>40.29</td>\n",
       "      <td>NaN</td>\n",
       "      <td>NaN</td>\n",
       "      <td>http://m.target.com/p/furreal-friends-fancy-ki...</td>\n",
       "      <td>6.04</td>\n",
       "      <td>14.99</td>\n",
       "      <td>106122</td>\n",
       "      <td>NaN</td>\n",
       "      <td>NaN</td>\n",
       "      <td>target</td>\n",
       "      <td>NaN</td>\n",
       "      <td>FurReal Friends Dress Me Babies Fancy Kitty Pet</td>\n",
       "      <td>653569808534</td>\n",
       "    </tr>\n",
       "    <tr>\n",
       "      <th>4</th>\n",
       "      <td>69.95</td>\n",
       "      <td>B006O3F3KO</td>\n",
       "      <td>2014-06-08 19:35:45.958895</td>\n",
       "      <td>http://ecx.images-amazon.com/images/I/41Dkj6oZ...</td>\n",
       "      <td>NaN</td>\n",
       "      <td>83.81</td>\n",
       "      <td>NaN</td>\n",
       "      <td>NaN</td>\n",
       "      <td>http://m.target.com/p/our-generation-salon-cha...</td>\n",
       "      <td>22.62</td>\n",
       "      <td>26.99</td>\n",
       "      <td>235274</td>\n",
       "      <td>NaN</td>\n",
       "      <td>NaN</td>\n",
       "      <td>target</td>\n",
       "      <td>NaN</td>\n",
       "      <td>Our Generation Purple Salon Chair fits most 18...</td>\n",
       "      <td>062243243408</td>\n",
       "    </tr>\n",
       "  </tbody>\n",
       "</table>\n",
       "</div>"
      ],
      "text/plain": [
       "   amazon_sales_price        asin                       date  \\\n",
       "0               75.98  B004QNL2CC 2014-06-08 19:35:45.958895   \n",
       "1               21.99  B007GQOCUK 2014-06-08 19:35:45.958895   \n",
       "2               36.95  B0073FV4CS 2014-06-08 19:35:45.958895   \n",
       "3               29.95  B00AHVJ9V8 2014-06-08 19:35:45.958895   \n",
       "4               69.95  B006O3F3KO 2014-06-08 19:35:45.958895   \n",
       "\n",
       "                                               image logo  margin model  \\\n",
       "0  http://ecx.images-amazon.com/images/I/51LTTrOV...  NaN   47.70   NaN   \n",
       "1  http://ecx.images-amazon.com/images/I/61zYcBOF...  NaN   43.28   NaN   \n",
       "2  http://ecx.images-amazon.com/images/I/41uWeEHI...  NaN   63.68   NaN   \n",
       "3  http://ecx.images-amazon.com/images/I/41TGh7cq...  NaN   40.29   NaN   \n",
       "4  http://ecx.images-amazon.com/images/I/41Dkj6oZ...  NaN   83.81   NaN   \n",
       "\n",
       "  model#                                           pagelink  profit  \\\n",
       "0    NaN  http://m.target.com/p/our-generation-20-morgan...   16.69   \n",
       "1    NaN  http://m.target.com/p/cra-z-art-my-look-color-...    4.54   \n",
       "2    NaN  http://m.target.com/p/beyblade-metal-masters-b...   10.82   \n",
       "3    NaN  http://m.target.com/p/furreal-friends-fancy-ki...    6.04   \n",
       "4    NaN  http://m.target.com/p/our-generation-salon-cha...   22.62   \n",
       "\n",
       "   purchaseprice  salesrank shipping  sku   store storepick  \\\n",
       "0          34.99      17704      NaN  NaN  target       NaN   \n",
       "1          10.49     147596      NaN  NaN  target       NaN   \n",
       "2          16.99     205741      NaN  NaN  target       NaN   \n",
       "3          14.99     106122      NaN  NaN  target       NaN   \n",
       "4          26.99     235274      NaN  NaN  target       NaN   \n",
       "\n",
       "                                               title           upc  \n",
       "0  Our Generation Poseable Morgan Horse For 18\" D...  062243242999  \n",
       "1     Cra Z Art My Look Color Your Own Messenger Bag  884920465091  \n",
       "2  Beyblade Metal Fusion Battle Top Faceoff - Bur...  653569721697  \n",
       "3    FurReal Friends Dress Me Babies Fancy Kitty Pet  653569808534  \n",
       "4  Our Generation Purple Salon Chair fits most 18...  062243243408  "
      ]
     },
     "execution_count": 69,
     "metadata": {},
     "output_type": "execute_result"
    }
   ],
   "source": [
    "df.head()"
   ]
  }
 ],
 "metadata": {
  "kernelspec": {
   "display_name": "Python 3",
   "language": "python",
   "name": "python3"
  },
  "language_info": {
   "codemirror_mode": {
    "name": "ipython",
    "version": 3
   },
   "file_extension": ".py",
   "mimetype": "text/x-python",
   "name": "python",
   "nbconvert_exporter": "python",
   "pygments_lexer": "ipython3",
   "version": "3.6.4"
  }
 },
 "nbformat": 4,
 "nbformat_minor": 2
}
