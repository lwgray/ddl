{
 "cells": [
  {
   "cell_type": "code",
   "execution_count": 3,
   "metadata": {},
   "outputs": [],
   "source": [
    "from boto.mws.connection import MWSConnection\n",
    "import numpy as np\n",
    "import pandas as pd\n",
    "from itertools import zip_longest\n",
    "import time\n",
    "from attributes import Attributes\n",
    "from boto.exception import BotoServerError\n",
    "from multiprocessing import Pool\n",
    "import multiprocessing as mp\n",
    "from tqdm import *\n",
    "import csv"
   ]
  },
  {
   "cell_type": "code",
   "execution_count": 4,
   "metadata": {},
   "outputs": [
    {
     "name": "stdout",
     "output_type": "stream",
     "text": [
      "5968\n"
     ]
    },
    {
     "name": "stderr",
     "output_type": "stream",
     "text": [
      "/home/lwgray/anaconda3/envs/ddl/lib/python3.6/site-packages/IPython/core/interactiveshell.py:2728: DtypeWarning: Columns (4,6,13,15,17) have mixed types. Specify dtype option on import or set low_memory=False.\n",
      "  interactivity=interactivity, compiler=compiler, result=result)\n"
     ]
    }
   ],
   "source": [
    "aws_access_key_id = os.environ.get('aws_access_key_id')\n",
    "aws_secret_access_key = os.environ.get('aws_secret_access_key')\n",
    "sellerid = os.environ.get('sellerid')\n",
    "marketplaceid = os.environ.get('marketplaceid')\n",
    "mws = MWSConnection(aws_access_key_id=aws_access_key_id,\n",
    "                    aws_secret_access_key=aws_secret_access_key,\n",
    "                    Merchant=sellerid)\n",
    "\n",
    "data = pd.read_csv('goodstuff.csv.xz')\n",
    "\n",
    "asin_list = list(zip_longest(*[iter(data.asin.unique())]*10))\n",
    "print(len(asin_list))\n",
    "asin_100 = asin_list[:100]\n",
    "asin_2 = asin_list[:2]\n",
    "asin_10 = asin_list[:10]\n",
    "len(asin_list)\n",
    "\n",
    "def get_attributes(asin_list):\n",
    "    master = []\n",
    "    for asins in asin_list:\n",
    "        try:\n",
    "            response = mws.get_matching_product(MarketplaceId=marketplaceid, ASINList=asins)\n",
    "        except AttributeError:\n",
    "            print('AttributeError')\n",
    "            time.sleep(10)\n",
    "            response = mws.get_matching_product(MarketplaceId=marketplaceid, ASINList=asins)\n",
    "        except BotoServerError:\n",
    "            print('BotoServerError')\n",
    "            time.sleep(10)\n",
    "            response = mws.get_matching_product(MarketplaceId=marketplaceid, ASINList=asins)\n",
    "        except:\n",
    "            print('Exception')\n",
    "            raise\n",
    "        for result in response._result:\n",
    "            product = result.Product\n",
    "            identifier = result['ASIN']\n",
    "            try:\n",
    "                attributes = product.AttributeSets.ItemAttributes[0]\n",
    "            except AttributeError:\n",
    "                continue\n",
    "            dimensions = attributes.PackageDimensions\n",
    "            a = Attributes(product, attributes, dimensions)\n",
    "            master.append([identifier, a.get_brand(), a.get_length(), a.get_width(),\n",
    "                   a.get_height(), a.get_salesrank(), a.get_manufacturer(), a.get_max_age(),\n",
    "                   a.get_min_age(), a.get_product_group()])\n",
    "    return master"
   ]
  },
  {
   "cell_type": "code",
   "execution_count": 8,
   "metadata": {},
   "outputs": [],
   "source": [
    "pool = Pool(processes=8)\n",
    "result = []\n",
    "with open('test.csv', 'a') as f:\n",
    "    writer = csv.writer(f)\n",
    "    for results in pool.imap(get_attributes, [asin_10]):\n",
    "        for result in results:\n",
    "            writer.writerow(result)\n",
    "pool.close()\n",
    "pool.join()\n",
    "#for res in pool.map(get_attributes, [asin_list]):\n",
    "#    print(res)"
   ]
  },
  {
   "cell_type": "code",
   "execution_count": 55,
   "metadata": {},
   "outputs": [],
   "source": [
    "attr = pd.DataFrame(result[0], columns=['id', 'brand', 'length', 'width', 'height',\n",
    "                                    'salesrank', 'manufacturer', 'max_age',\n",
    "                                    'min_age', 'product_group'])\n",
    "attr.to_csv('attributes.csv', header=False)"
   ]
  }
 ],
 "metadata": {
  "kernelspec": {
   "display_name": "Python 3",
   "language": "python",
   "name": "python3"
  },
  "language_info": {
   "codemirror_mode": {
    "name": "ipython",
    "version": 3
   },
   "file_extension": ".py",
   "mimetype": "text/x-python",
   "name": "python",
   "nbconvert_exporter": "python",
   "pygments_lexer": "ipython3",
   "version": "3.6.4"
  }
 },
 "nbformat": 4,
 "nbformat_minor": 2
}
