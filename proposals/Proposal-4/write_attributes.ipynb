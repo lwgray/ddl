{
 "cells": [
  {
   "cell_type": "code",
   "execution_count": 1,
   "metadata": {},
   "outputs": [],
   "source": [
    "from boto.mws.connection import MWSConnection\n",
    "import numpy as np\n",
    "import pandas as pd\n",
    "from itertools import zip_longest\n",
    "import time\n",
    "from attributes import Attributes\n",
    "from boto.exception import BotoServerError\n",
    "from multiprocessing import Pool\n",
    "import multiprocessing as mp\n",
    "from tqdm import *\n",
    "import csv\n",
    "import os"
   ]
  },
  {
   "cell_type": "code",
   "execution_count": 2,
   "metadata": {},
   "outputs": [
    {
     "name": "stderr",
     "output_type": "stream",
     "text": [
      "/home/lwgray/anaconda3/envs/ddl/lib/python3.6/site-packages/IPython/core/interactiveshell.py:2728: DtypeWarning: Columns (4,6,13,15,17) have mixed types. Specify dtype option on import or set low_memory=False.\n",
      "  interactivity=interactivity, compiler=compiler, result=result)\n"
     ]
    }
   ],
   "source": [
    "aws_access_key_id = os.environ.get('aws_access_key_id')\n",
    "aws_secret_access_key = os.environ.get('aws_secret_access_key')\n",
    "sellerid = os.environ.get('sellerid')\n",
    "marketplaceid = os.environ.get('marketplaceid')\n",
    "mws = MWSConnection(aws_access_key_id=aws_access_key_id,\n",
    "                    aws_secret_access_key=aws_secret_access_key,\n",
    "                    Merchant=sellerid)\n",
    "\n",
    "data = pd.read_csv('goodstuff.csv.xz')"
   ]
  },
  {
   "cell_type": "code",
   "execution_count": 3,
   "metadata": {},
   "outputs": [],
   "source": [
    "asin_list = list(zip_longest(*[iter(data.asin.unique())]*10))\n",
    "# asin_list = list(zip_longest(*[iter(asin_list)]*10))\n",
    "asin_100 = asin_list[:100]\n",
    "asin_2 = asin_list[:2]\n",
    "asin_10 = asin_list[:10]"
   ]
  },
  {
   "cell_type": "code",
   "execution_count": 4,
   "metadata": {},
   "outputs": [
    {
     "name": "stdout",
     "output_type": "stream",
     "text": [
      "['B004QNL2CC']\n"
     ]
    },
    {
     "data": {
      "text/plain": [
       "GetMatchingProductResponse{'xmlns': 'http://mws.amazonservices.com/schema/Products/2011-10-01'}(GetMatchingProductResult: [ProductsBulkOperationResult{'ASIN': 'B004QNL2CC', 'status': 'Success'}(Product: Product{'xmlns': 'http://mws.amazonservices.com/schema/Products/2011-10-01', 'xmlns:ns2': 'http://mws.amazonservices.com/schema/Products/2011-10-01/default.xsd'}(Identifiers: ^Identifiers^{}(MarketplaceASIN: ^MarketplaceASIN^{}(MarketplaceId: 'ATVPDKIKX0DER', ASIN: 'B004QNL2CC'), SKUIdentifier: None), AttributeSets: ^AttributeSets^{}(ItemAttributes: [ItemAttributes{'xml:lang': 'en-US'}(Actor: [], Artist: [], Author: [], Creator: [], Director: [], Feature: [], Format: [], GemType: [], MaterialType: [], MediaType: [], OperatingSystem: [], Platform: [], ItemDimensions: 20.50inchesx23.00inchesx6.00inchesx5.80pounds, ListPrice: None, PackageDimensions: 5.90inchesx22.60inchesx19.40inchesx5.80pounds, SmallImage: Image{}(URL: 'http://ecx.images-amazon.com/images/I/4107b76lPWL._SL75_.jpg', Height: 75{'Units': 'pixels'}, Width: 71{'Units': 'pixels'}), Languages: ^Languages^{}(Language: [^Language^{}(Name: 'english', Type: 'Unknown')]), Binding: 'Toy', Brand: 'Our Generation', IsAdultProduct: 'false', Label: 'Lite Hawk', Manufacturer: 'Lite Hawk', ManufacturerMaximumAge: 180.0{'Units': 'months'}, ManufacturerMinimumAge: 36.0{'Units': 'months'}, Model: '68973', PackageQuantity: '1', PartNumber: 'BD38146Z', ProductGroup: 'Toy', ProductTypeName: 'TOYS_AND_GAMES', Publisher: 'Lite Hawk', Studio: 'Lite Hawk', Title: 'Our Generation Horse - Morgan (Poseable)')]), Relationships: ^Relationships^{}(VariationParent: []), CompetitivePricing: [], SalesRankings: ^SalesRankings^{}(SalesRank: [SalesRank{}(ProductCategoryId: 'toy_display_on_website', Rank: '273041'), SalesRank{}(ProductCategoryId: '166119011', Rank: '3661'), SalesRank{}(ProductCategoryId: '251910011', Rank: '103766')]), LowestOfferListings: None, Offers: None), Error: None)], ResponseMetadata: ^ResponseMetadata^{}(RequestId: '0c540562-11cd-4656-8812-efff08596da9'))"
      ]
     },
     "execution_count": 4,
     "metadata": {},
     "output_type": "execute_result"
    }
   ],
   "source": [
    "mws.aws_access_key_id\n",
    "single = [asin_list[0][0]]\n",
    "print(single)\n",
    "mws.get_matching_product(MarketplaceId=marketplaceid, ASINList=single)"
   ]
  },
  {
   "cell_type": "code",
   "execution_count": 5,
   "metadata": {},
   "outputs": [],
   "source": [
    "def get_attributes(asin_list):\n",
    "    master = []\n",
    "    for asins in asin_list:\n",
    "        try:\n",
    "            try:\n",
    "                response = mws.get_matching_product(MarketplaceId=marketplaceid, ASINList=asins)\n",
    "            except AttributeError:\n",
    "                print('AttributeError')\n",
    "                time.sleep(20)\n",
    "                response = mws.get_matching_product(MarketplaceId=marketplaceid, ASINList=asins)\n",
    "            except BotoServerError:\n",
    "                print('BotoServerError')\n",
    "                time.sleep(20)\n",
    "                response = mws.get_matching_product(MarketplaceId=marketplaceid, ASINList=asins)\n",
    "            except:\n",
    "                print('Exception')\n",
    "                raise\n",
    "            for result in response._result:\n",
    "                product = result.Product\n",
    "                identifier = result['ASIN']\n",
    "                try:\n",
    "                    attributes = product.AttributeSets.ItemAttributes[0]\n",
    "                except AttributeError:\n",
    "                    continue\n",
    "                dimensions = attributes.PackageDimensions\n",
    "                a = Attributes(product, attributes, dimensions)\n",
    "                master.append([identifier, a.get_brand(), a.get_length(), a.get_width(),\n",
    "                       a.get_height(), a.get_salesrank(), a.get_manufacturer(), a.get_max_age(),\n",
    "                       a.get_min_age(), a.get_product_group()])\n",
    "        except:\n",
    "            time.sleep(20)\n",
    "    return master"
   ]
  },
  {
   "cell_type": "code",
   "execution_count": 12,
   "metadata": {},
   "outputs": [],
   "source": [
    "pool = Pool(processes=6)\n",
    "with open('test2.csv', 'a') as f:\n",
    "    writer = csv.writer(f)\n",
    "    for results in pool.imap_unordered(get_attributes, [asin_list[:1000]]):\n",
    "        for result in results:\n",
    "            writer.writerow(result)\n",
    "pool.close()\n",
    "pool.join()\n",
    "\n",
    "#for res in pool.map(get_attributes, [asin_list]):\n",
    "#    print(res)"
   ]
  },
  {
   "cell_type": "code",
   "execution_count": 55,
   "metadata": {},
   "outputs": [],
   "source": [
    "attr = pd.DataFrame(result[0], columns=['id', 'brand', 'length', 'width', 'height',\n",
    "                                    'salesrank', 'manufacturer', 'max_age',\n",
    "                                    'min_age', 'product_group'])\n",
    "attr.to_csv('attributes.csv', header=False)"
   ]
  }
 ],
 "metadata": {
  "kernelspec": {
   "display_name": "Python 3",
   "language": "python",
   "name": "python3"
  },
  "language_info": {
   "codemirror_mode": {
    "name": "ipython",
    "version": 3
   },
   "file_extension": ".py",
   "mimetype": "text/x-python",
   "name": "python",
   "nbconvert_exporter": "python",
   "pygments_lexer": "ipython3",
   "version": "3.6.4"
  }
 },
 "nbformat": 4,
 "nbformat_minor": 2
}
