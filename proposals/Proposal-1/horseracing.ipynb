{
 "cells": [
  {
   "cell_type": "markdown",
   "metadata": {
    "slideshow": {
     "slide_type": "slide"
    }
   },
   "source": [
    "### Proposal #1 Horse racing dataset.  \n",
    "\n",
    "The dataset is derieved from tips that tipsters provided to bettors.  \n",
    "Tipsters are people that give bettors their best guess aka tip on how to place a bet on a horse race.  \n",
    "This dataset could be used to predict horse races.\n",
    "\n",
    "\n",
    "##### Topic:\n",
    "Interesting Dataset;  \n",
    "\n",
    "##### Proposal/Yellowbrick:\n",
    "Classification tutorial with an unbalanced data set  \n",
    "\n",
    "##### Notes:\n",
    "This dataset is unbalanced.  Given that horse racing is a game of chance, you would expect an unbalanced target.  \n",
    "\n",
    "#### Other:\n",
    "1.  Consists of 380k tips\n",
    "2.  Current features include odds, track, bet-type, horse name, and result\n",
    "3.  Other features could be added to put together a successful machine learning model such as tempature, humidty, and precipitation.\n",
    "\n",
    "![](../../images/horse1.png)"
   ]
  },
  {
   "cell_type": "code",
   "execution_count": 1,
   "metadata": {
    "slideshow": {
     "slide_type": "slide"
    }
   },
   "outputs": [],
   "source": [
    "import pandas as pd\n",
    "from yellowbrick.classifier.class_balance import ClassBalance\n",
    "from sklearn.ensemble import RandomForestClassifier\n",
    "from sklearn.preprocessing import LabelEncoder, OneHotEncoder\n",
    "from sklearn.model_selection import train_test_split"
   ]
  },
  {
   "cell_type": "code",
   "execution_count": 2,
   "metadata": {
    "slideshow": {
     "slide_type": "slide"
    }
   },
   "outputs": [
    {
     "name": "stdout",
     "output_type": "stream",
     "text": [
      "(38248, 10)\n"
     ]
    },
    {
     "data": {
      "text/html": [
       "<div>\n",
       "<style scoped>\n",
       "    .dataframe tbody tr th:only-of-type {\n",
       "        vertical-align: middle;\n",
       "    }\n",
       "\n",
       "    .dataframe tbody tr th {\n",
       "        vertical-align: top;\n",
       "    }\n",
       "\n",
       "    .dataframe thead th {\n",
       "        text-align: right;\n",
       "    }\n",
       "</style>\n",
       "<table border=\"1\" class=\"dataframe\">\n",
       "  <thead>\n",
       "    <tr style=\"text-align: right;\">\n",
       "      <th></th>\n",
       "      <th>Track</th>\n",
       "      <th>Horse</th>\n",
       "      <th>Bet Type</th>\n",
       "      <th>Odds</th>\n",
       "      <th>Result</th>\n",
       "    </tr>\n",
       "  </thead>\n",
       "  <tbody>\n",
       "    <tr>\n",
       "      <th>0</th>\n",
       "      <td>Ascot</td>\n",
       "      <td>Fredricka</td>\n",
       "      <td>Win</td>\n",
       "      <td>8.00</td>\n",
       "      <td>Lose</td>\n",
       "    </tr>\n",
       "    <tr>\n",
       "      <th>1</th>\n",
       "      <td>Thirsk</td>\n",
       "      <td>Spend A Penny</td>\n",
       "      <td>Win</td>\n",
       "      <td>4.50</td>\n",
       "      <td>Lose</td>\n",
       "    </tr>\n",
       "    <tr>\n",
       "      <th>2</th>\n",
       "      <td>York</td>\n",
       "      <td>Straightothepoint</td>\n",
       "      <td>Win</td>\n",
       "      <td>7.00</td>\n",
       "      <td>Lose</td>\n",
       "    </tr>\n",
       "    <tr>\n",
       "      <th>3</th>\n",
       "      <td>Newmarket</td>\n",
       "      <td>Miss Inga Sock</td>\n",
       "      <td>Win</td>\n",
       "      <td>5.00</td>\n",
       "      <td>Lose</td>\n",
       "    </tr>\n",
       "    <tr>\n",
       "      <th>4</th>\n",
       "      <td>Ascot</td>\n",
       "      <td>Peril</td>\n",
       "      <td>Win</td>\n",
       "      <td>4.33</td>\n",
       "      <td>Win</td>\n",
       "    </tr>\n",
       "  </tbody>\n",
       "</table>\n",
       "</div>"
      ],
      "text/plain": [
       "       Track              Horse Bet Type  Odds Result\n",
       "0      Ascot          Fredricka      Win  8.00   Lose\n",
       "1     Thirsk      Spend A Penny      Win  4.50   Lose\n",
       "2       York  Straightothepoint      Win  7.00   Lose\n",
       "3  Newmarket     Miss Inga Sock      Win  5.00   Lose\n",
       "4      Ascot              Peril      Win  4.33    Win"
      ]
     },
     "execution_count": 2,
     "metadata": {},
     "output_type": "execute_result"
    }
   ],
   "source": [
    "features = ['Track', 'Horse', 'Bet Type', 'Odds', 'Result']\n",
    "data = pd.read_csv(\"https://query.data.world/s/hGxcDSVClhoNX6KacQMHnFVNbHy9Zg\",\n",
    "                   encoding='latin-1')\n",
    "print(data.shape)\n",
    "data[features].head()"
   ]
  },
  {
   "cell_type": "code",
   "execution_count": 3,
   "metadata": {
    "slideshow": {
     "slide_type": "slide"
    }
   },
   "outputs": [],
   "source": [
    "# Create training and test sets\n",
    "X = data.Odds.values.reshape(-1,1)\n",
    "y = LabelEncoder().fit_transform(data.Result.values.ravel())\n",
    "X_train, X_test, y_train, y_test = train_test_split(X, y, test_size=0.2,\n",
    "                                                    random_state=42)\n",
    "classes = data.Result.unique()"
   ]
  },
  {
   "cell_type": "code",
   "execution_count": 4,
   "metadata": {
    "slideshow": {
     "slide_type": "slide"
    }
   },
   "outputs": [
    {
     "data": {
      "image/png": "[encoded data removed]",
      "text/plain": [
       "<matplotlib.figure.Figure at 0x179800c0eb8>"
      ]
     },
     "metadata": {},
     "output_type": "display_data"
    }
   ],
   "source": [
    "# Use Yellowbrick Visualizer ClassBalance\n",
    "forest = RandomForestClassifier()\n",
    "visualizer = ClassBalance(forest, classes=classes)\n",
    "\n",
    "visualizer.fit(X_train, y_train)  # Fit the training data to the visualizer\n",
    "visualizer.score(X_test, y_test)  # Evaluate the model on the test data\n",
    "g = visualizer.poof()   "
   ]
  },
  {
   "cell_type": "code",
   "execution_count": null,
   "metadata": {},
   "outputs": [],
   "source": []
  }
 ],
 "metadata": {
  "kernelspec": {
   "display_name": "Python 3",
   "language": "python",
   "name": "python3"
  },
  "language_info": {
   "codemirror_mode": {
    "name": "ipython",
    "version": 3
   },
   "file_extension": ".py",
   "mimetype": "text/x-python",
   "name": "python",
   "nbconvert_exporter": "python",
   "pygments_lexer": "ipython3",
   "version": "3.6.4"
  }
 },
 "nbformat": 4,
 "nbformat_minor": 2
}
