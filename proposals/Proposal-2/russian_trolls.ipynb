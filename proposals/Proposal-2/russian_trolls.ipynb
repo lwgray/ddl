{
 "cells": [
  {
   "cell_type": "markdown",
   "metadata": {},
   "source": [
    "### Russian Trolls: Proposal #2\n",
    "\n",
    "This dataset released by NBC on Feb. 14 contains 200K tweets from Russian Trolls:\n",
    "\n",
    "#### Topic:\n",
    "Interesting Dataset; Beginner Tutorial\n",
    "\n",
    "#### Proposal:  \n",
    "1.  Create a beginner tutorial on topic modeling  \n",
    "2.  Tutorial on predicting number of retweets(Caveats: Very hard to predict)\n",
    "\n",
    "#### Yellowbrick:  \n",
    "1.  Proposal #1 :Use FreqDist to show most frequent words; Use t-SNE to visualize clustering  \n",
    "2.  Proposal #2: Use Regression visualizers\n",
    "\n",
    "![](images/twitter_russian_troll.jpg)"
   ]
  },
  {
   "cell_type": "code",
   "execution_count": 1,
   "metadata": {},
   "outputs": [],
   "source": [
    "import pandas as pd"
   ]
  },
  {
   "cell_type": "code",
   "execution_count": 2,
   "metadata": {},
   "outputs": [],
   "source": [
    "df = pd.read_csv('tweets.csv.xz', dtype={'user_id': object, \n",
    "                                         'created_at': object,\n",
    "                                         'tweet_id': object})"
   ]
  },
  {
   "cell_type": "code",
   "execution_count": 3,
   "metadata": {},
   "outputs": [
    {
     "data": {
      "text/html": [
       "<div>\n",
       "<style scoped>\n",
       "    .dataframe tbody tr th:only-of-type {\n",
       "        vertical-align: middle;\n",
       "    }\n",
       "\n",
       "    .dataframe tbody tr th {\n",
       "        vertical-align: top;\n",
       "    }\n",
       "\n",
       "    .dataframe thead th {\n",
       "        text-align: right;\n",
       "    }\n",
       "</style>\n",
       "<table border=\"1\" class=\"dataframe\">\n",
       "  <thead>\n",
       "    <tr style=\"text-align: right;\">\n",
       "      <th></th>\n",
       "      <th>user_key</th>\n",
       "      <th>retweet_count</th>\n",
       "      <th>text</th>\n",
       "      <th>expanded_urls</th>\n",
       "    </tr>\n",
       "  </thead>\n",
       "  <tbody>\n",
       "    <tr>\n",
       "      <th>1</th>\n",
       "      <td>detroitdailynew</td>\n",
       "      <td>0.0</td>\n",
       "      <td>Clinton: Trump should’ve apologized more, atta...</td>\n",
       "      <td>[\"http://detne.ws/2e172jF\"]</td>\n",
       "    </tr>\n",
       "    <tr>\n",
       "      <th>8</th>\n",
       "      <td>ameliebaldwin</td>\n",
       "      <td>0.0</td>\n",
       "      <td>RT @AriaWilsonGOP: 3 Women Face Charges After ...</td>\n",
       "      <td>[\"http://www.Feed24hNews.com/4MzaL\"]</td>\n",
       "    </tr>\n",
       "    <tr>\n",
       "      <th>13</th>\n",
       "      <td>pamela_moore13</td>\n",
       "      <td>138.0</td>\n",
       "      <td>Dave Chappelle: \"Black Lives Matter\" is the wo...</td>\n",
       "      <td>[]</td>\n",
       "    </tr>\n",
       "    <tr>\n",
       "      <th>16</th>\n",
       "      <td>pamela_moore13</td>\n",
       "      <td>592.0</td>\n",
       "      <td>The war is here! \\nThis gentleman made more se...</td>\n",
       "      <td>[]</td>\n",
       "    </tr>\n",
       "    <tr>\n",
       "      <th>20</th>\n",
       "      <td>kansasdailynews</td>\n",
       "      <td>0.0</td>\n",
       "      <td>Obama on Trump winning: 'Anything's possible' ...</td>\n",
       "      <td>[\"http://bit.ly/2axp6SI\"]</td>\n",
       "    </tr>\n",
       "  </tbody>\n",
       "</table>\n",
       "</div>"
      ],
      "text/plain": [
       "           user_key  retweet_count  \\\n",
       "1   detroitdailynew            0.0   \n",
       "8     ameliebaldwin            0.0   \n",
       "13   pamela_moore13          138.0   \n",
       "16   pamela_moore13          592.0   \n",
       "20  kansasdailynews            0.0   \n",
       "\n",
       "                                                 text  \\\n",
       "1   Clinton: Trump should’ve apologized more, atta...   \n",
       "8   RT @AriaWilsonGOP: 3 Women Face Charges After ...   \n",
       "13  Dave Chappelle: \"Black Lives Matter\" is the wo...   \n",
       "16  The war is here! \\nThis gentleman made more se...   \n",
       "20  Obama on Trump winning: 'Anything's possible' ...   \n",
       "\n",
       "                           expanded_urls  \n",
       "1            [\"http://detne.ws/2e172jF\"]  \n",
       "8   [\"http://www.Feed24hNews.com/4MzaL\"]  \n",
       "13                                    []  \n",
       "16                                    []  \n",
       "20             [\"http://bit.ly/2axp6SI\"]  "
      ]
     },
     "execution_count": 3,
     "metadata": {},
     "output_type": "execute_result"
    }
   ],
   "source": [
    "df[['user_key', 'retweet_count', 'text']].head()\n",
    "df[~df.retweet_count.isna()][['user_key', 'retweet_count',\n",
    "                              'text', \n",
    "                              'expanded_urls']].head()"
   ]
  },
  {
   "cell_type": "code",
   "execution_count": 4,
   "metadata": {},
   "outputs": [
    {
     "data": {
      "text/plain": [
       "'Clinton: Trump should’ve apologized more, attacked less https://t.co/eJampkoHFZ'"
      ]
     },
     "execution_count": 4,
     "metadata": {},
     "output_type": "execute_result"
    }
   ],
   "source": [
    "df.text.loc[1]"
   ]
  }
 ],
 "metadata": {
  "kernelspec": {
   "display_name": "Python 3",
   "language": "python",
   "name": "python3"
  },
  "language_info": {
   "codemirror_mode": {
    "name": "ipython",
    "version": 3
   },
   "file_extension": ".py",
   "mimetype": "text/x-python",
   "name": "python",
   "nbconvert_exporter": "python",
   "pygments_lexer": "ipython3",
   "version": "3.6.4"
  }
 },
 "nbformat": 4,
 "nbformat_minor": 2
}
